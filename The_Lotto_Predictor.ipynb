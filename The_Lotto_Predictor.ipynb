{
 "cells": [
  {
   "cell_type": "markdown",
   "metadata": {},
   "source": [
    "# The Lotto Predictor"
   ]
  },
  {
   "cell_type": "markdown",
   "metadata": {},
   "source": [
    "The project is about helping medical institutions help their patients fight gambling addictions. The goal of the project is to correctly predict the probablility of winning lottery against various input to give people a better sense of their chance of winning."
   ]
  },
  {
   "cell_type": "code",
   "execution_count": 1,
   "metadata": {
    "collapsed": false
   },
   "outputs": [],
   "source": [
    "def factorial(n):\n",
    "    if n <= 1:\n",
    "        return n\n",
    "    return n * factorial(n -1)\n",
    "\n",
    "def combinations(n, k):\n",
    "    return factorial(n) / (factorial(k) * factorial(n - k))\n",
    "\n",
    "# Both of these functions assist us in calculating cases where probability \n",
    "# occurrs without replacement"
   ]
  },
  {
   "cell_type": "code",
   "execution_count": 2,
   "metadata": {
    "collapsed": true
   },
   "outputs": [],
   "source": [
    "def one_ticket_probability(a_list):\n",
    "    total_outcome = int(combinations(49, 6))\n",
    "    percent = (1/total_outcome) * 100\n",
    "    print(\"The Lotto lottery system picks 6 numbers from a set of 49 numbers, and if your numbers are same as those of Lotto's then you win 5 million dollars!\" + \"\\n\")\n",
    "    print(\"Exciting, right?\" + \" \" + \"But wait not so fast, have you tried to figure out how many possible different combinations of 6 numbers you can build from 49 numbers?\" + \"\\n\")\n",
    "    print(\"Take a guess...\" + \"There are \" + str(total_outcome) +\" possible combinations.\" + \"\\n\")\n",
    "    print(\"And a single purchase of ticket only gives you access to choose 1 such combination.\"+ \"\\n\")\n",
    "    print(\"The odds are stacked heavily against you. Your combination {} only have {:.7f}% chance of winning.\".format(a_list, percent))"
   ]
  },
  {
   "cell_type": "code",
   "execution_count": 3,
   "metadata": {
    "collapsed": false
   },
   "outputs": [
    {
     "name": "stdout",
     "output_type": "stream",
     "text": [
      "The Lotto lottery system picks 6 numbers from a set of 49 numbers, and if your numbers are same as those of Lotto's then you win 5 million dollars!\n",
      "\n",
      "Exciting, right? But wait not so fast, have you tried to figure out how many possible different combinations of 6 numbers you can build from 49 numbers?\n",
      "\n",
      "Take a guess...There are 13983816 possible combinations.\n",
      "\n",
      "And a single purchase of ticket only gives you access to choose 1 such combination.\n",
      "\n",
      "The odds are stacked heavily against you. Your combination [1, 2, 3, 4, 5, 6] only have 0.0000072% chance of winning.\n"
     ]
    }
   ],
   "source": [
    "one_ticket_probability([1,2,3,4,5,6])"
   ]
  },
  {
   "cell_type": "markdown",
   "metadata": {
    "collapsed": true
   },
   "source": [
    "### The one_ticket_probability() function does following things:\n",
    "1. Takes user's desired input.\n",
    "2. Shows the odds of winning with one ticket.\n",
    "3. Playfully cautions them about gambling by drawing on the odds or percentage of winning with a lottery ticket."
   ]
  },
  {
   "cell_type": "markdown",
   "metadata": {},
   "source": [
    "## Experimenting with historical data\n"
   ]
  },
  {
   "cell_type": "code",
   "execution_count": 4,
   "metadata": {
    "collapsed": false
   },
   "outputs": [
    {
     "data": {
      "text/plain": [
       "(3665, 11)"
      ]
     },
     "execution_count": 4,
     "metadata": {},
     "output_type": "execute_result"
    }
   ],
   "source": [
    "import pandas as pd\n",
    "\n",
    "lotto = pd.read_csv(\"649.csv\")\n",
    "lotto.shape"
   ]
  },
  {
   "cell_type": "markdown",
   "metadata": {},
   "source": [
    "First three rows"
   ]
  },
  {
   "cell_type": "code",
   "execution_count": 5,
   "metadata": {
    "collapsed": false,
    "scrolled": true
   },
   "outputs": [
    {
     "data": {
      "text/html": [
       "<div>\n",
       "<style scoped>\n",
       "    .dataframe tbody tr th:only-of-type {\n",
       "        vertical-align: middle;\n",
       "    }\n",
       "\n",
       "    .dataframe tbody tr th {\n",
       "        vertical-align: top;\n",
       "    }\n",
       "\n",
       "    .dataframe thead th {\n",
       "        text-align: right;\n",
       "    }\n",
       "</style>\n",
       "<table border=\"1\" class=\"dataframe\">\n",
       "  <thead>\n",
       "    <tr style=\"text-align: right;\">\n",
       "      <th></th>\n",
       "      <th>PRODUCT</th>\n",
       "      <th>DRAW NUMBER</th>\n",
       "      <th>SEQUENCE NUMBER</th>\n",
       "      <th>DRAW DATE</th>\n",
       "      <th>NUMBER DRAWN 1</th>\n",
       "      <th>NUMBER DRAWN 2</th>\n",
       "      <th>NUMBER DRAWN 3</th>\n",
       "      <th>NUMBER DRAWN 4</th>\n",
       "      <th>NUMBER DRAWN 5</th>\n",
       "      <th>NUMBER DRAWN 6</th>\n",
       "      <th>BONUS NUMBER</th>\n",
       "    </tr>\n",
       "  </thead>\n",
       "  <tbody>\n",
       "    <tr>\n",
       "      <th>0</th>\n",
       "      <td>649</td>\n",
       "      <td>1</td>\n",
       "      <td>0</td>\n",
       "      <td>6/12/1982</td>\n",
       "      <td>3</td>\n",
       "      <td>11</td>\n",
       "      <td>12</td>\n",
       "      <td>14</td>\n",
       "      <td>41</td>\n",
       "      <td>43</td>\n",
       "      <td>13</td>\n",
       "    </tr>\n",
       "    <tr>\n",
       "      <th>1</th>\n",
       "      <td>649</td>\n",
       "      <td>2</td>\n",
       "      <td>0</td>\n",
       "      <td>6/19/1982</td>\n",
       "      <td>8</td>\n",
       "      <td>33</td>\n",
       "      <td>36</td>\n",
       "      <td>37</td>\n",
       "      <td>39</td>\n",
       "      <td>41</td>\n",
       "      <td>9</td>\n",
       "    </tr>\n",
       "    <tr>\n",
       "      <th>2</th>\n",
       "      <td>649</td>\n",
       "      <td>3</td>\n",
       "      <td>0</td>\n",
       "      <td>6/26/1982</td>\n",
       "      <td>1</td>\n",
       "      <td>6</td>\n",
       "      <td>23</td>\n",
       "      <td>24</td>\n",
       "      <td>27</td>\n",
       "      <td>39</td>\n",
       "      <td>34</td>\n",
       "    </tr>\n",
       "  </tbody>\n",
       "</table>\n",
       "</div>"
      ],
      "text/plain": [
       "   PRODUCT  DRAW NUMBER  SEQUENCE NUMBER  DRAW DATE  NUMBER DRAWN 1  \\\n",
       "0      649            1                0  6/12/1982               3   \n",
       "1      649            2                0  6/19/1982               8   \n",
       "2      649            3                0  6/26/1982               1   \n",
       "\n",
       "   NUMBER DRAWN 2  NUMBER DRAWN 3  NUMBER DRAWN 4  NUMBER DRAWN 5  \\\n",
       "0              11              12              14              41   \n",
       "1              33              36              37              39   \n",
       "2               6              23              24              27   \n",
       "\n",
       "   NUMBER DRAWN 6  BONUS NUMBER  \n",
       "0              43            13  \n",
       "1              41             9  \n",
       "2              39            34  "
      ]
     },
     "execution_count": 5,
     "metadata": {},
     "output_type": "execute_result"
    }
   ],
   "source": [
    "lotto.head(3)"
   ]
  },
  {
   "cell_type": "markdown",
   "metadata": {},
   "source": [
    "Last three rows"
   ]
  },
  {
   "cell_type": "code",
   "execution_count": 6,
   "metadata": {
    "collapsed": false
   },
   "outputs": [
    {
     "data": {
      "text/html": [
       "<div>\n",
       "<style scoped>\n",
       "    .dataframe tbody tr th:only-of-type {\n",
       "        vertical-align: middle;\n",
       "    }\n",
       "\n",
       "    .dataframe tbody tr th {\n",
       "        vertical-align: top;\n",
       "    }\n",
       "\n",
       "    .dataframe thead th {\n",
       "        text-align: right;\n",
       "    }\n",
       "</style>\n",
       "<table border=\"1\" class=\"dataframe\">\n",
       "  <thead>\n",
       "    <tr style=\"text-align: right;\">\n",
       "      <th></th>\n",
       "      <th>PRODUCT</th>\n",
       "      <th>DRAW NUMBER</th>\n",
       "      <th>SEQUENCE NUMBER</th>\n",
       "      <th>DRAW DATE</th>\n",
       "      <th>NUMBER DRAWN 1</th>\n",
       "      <th>NUMBER DRAWN 2</th>\n",
       "      <th>NUMBER DRAWN 3</th>\n",
       "      <th>NUMBER DRAWN 4</th>\n",
       "      <th>NUMBER DRAWN 5</th>\n",
       "      <th>NUMBER DRAWN 6</th>\n",
       "      <th>BONUS NUMBER</th>\n",
       "    </tr>\n",
       "  </thead>\n",
       "  <tbody>\n",
       "    <tr>\n",
       "      <th>3662</th>\n",
       "      <td>649</td>\n",
       "      <td>3589</td>\n",
       "      <td>0</td>\n",
       "      <td>6/13/2018</td>\n",
       "      <td>6</td>\n",
       "      <td>22</td>\n",
       "      <td>24</td>\n",
       "      <td>31</td>\n",
       "      <td>32</td>\n",
       "      <td>34</td>\n",
       "      <td>16</td>\n",
       "    </tr>\n",
       "    <tr>\n",
       "      <th>3663</th>\n",
       "      <td>649</td>\n",
       "      <td>3590</td>\n",
       "      <td>0</td>\n",
       "      <td>6/16/2018</td>\n",
       "      <td>2</td>\n",
       "      <td>15</td>\n",
       "      <td>21</td>\n",
       "      <td>31</td>\n",
       "      <td>38</td>\n",
       "      <td>49</td>\n",
       "      <td>8</td>\n",
       "    </tr>\n",
       "    <tr>\n",
       "      <th>3664</th>\n",
       "      <td>649</td>\n",
       "      <td>3591</td>\n",
       "      <td>0</td>\n",
       "      <td>6/20/2018</td>\n",
       "      <td>14</td>\n",
       "      <td>24</td>\n",
       "      <td>31</td>\n",
       "      <td>35</td>\n",
       "      <td>37</td>\n",
       "      <td>48</td>\n",
       "      <td>17</td>\n",
       "    </tr>\n",
       "  </tbody>\n",
       "</table>\n",
       "</div>"
      ],
      "text/plain": [
       "      PRODUCT  DRAW NUMBER  SEQUENCE NUMBER  DRAW DATE  NUMBER DRAWN 1  \\\n",
       "3662      649         3589                0  6/13/2018               6   \n",
       "3663      649         3590                0  6/16/2018               2   \n",
       "3664      649         3591                0  6/20/2018              14   \n",
       "\n",
       "      NUMBER DRAWN 2  NUMBER DRAWN 3  NUMBER DRAWN 4  NUMBER DRAWN 5  \\\n",
       "3662              22              24              31              32   \n",
       "3663              15              21              31              38   \n",
       "3664              24              31              35              37   \n",
       "\n",
       "      NUMBER DRAWN 6  BONUS NUMBER  \n",
       "3662              34            16  \n",
       "3663              49             8  \n",
       "3664              48            17  "
      ]
     },
     "execution_count": 6,
     "metadata": {},
     "output_type": "execute_result"
    }
   ],
   "source": [
    "lotto.tail(3)"
   ]
  },
  {
   "cell_type": "code",
   "execution_count": 7,
   "metadata": {
    "collapsed": false
   },
   "outputs": [],
   "source": [
    "def extract_numbers(a_list):\n",
    "    return set(a_list)\n",
    "\n",
    "winning_numbers = lotto.loc[:, [\"NUMBER DRAWN {}\".format(i) for i in range(1,7)]]\n",
    "lotto[\"the_winning_combination\"] = winning_numbers.apply(extract_numbers, axis=1)"
   ]
  },
  {
   "cell_type": "code",
   "execution_count": 8,
   "metadata": {
    "collapsed": false
   },
   "outputs": [
    {
     "name": "stdout",
     "output_type": "stream",
     "text": [
      "Your input series has occurred 0 time(s) in the past. \n",
      "    This means you have close to 0.000% chance of winning\n"
     ]
    }
   ],
   "source": [
    "def check_historical_occurence(user_input, combination_series):\n",
    "    user_input = set(user_input)\n",
    "    output_series = user_input == combination_series\n",
    "    \n",
    "    successful_outcome = 0\n",
    "    if True in output_series.value_counts():\n",
    "        successful_outcome = output_series.value_counts()[True]\n",
    "    \n",
    "    s_probability = (successful_outcome/len(output_series)) * 100\n",
    "    print('''Your input series has occurred {} time(s) in the past. \n",
    "    This means you have close to {:.3f}% chance of winning'''.format(\n",
    "        successful_outcome, s_probability))\n",
    "\n",
    "check_historical_occurence([8,9,25,36,47,6],\n",
    "                           lotto[\"the_winning_combination\"])    \n",
    "#check_historical_occurence([2,15,21,31,38,49],\n",
    "#                           lotto[\"the_winning_combination\"]).value_counts()"
   ]
  },
  {
   "cell_type": "markdown",
   "metadata": {},
   "source": [
    "### The above functions calculates the probability of a set of random user input occurring in past, and informs the user their chance of winning by comparing the user input with the winning set of numbers."
   ]
  },
  {
   "cell_type": "code",
   "execution_count": 9,
   "metadata": {
    "collapsed": false
   },
   "outputs": [
    {
     "name": "stdout",
     "output_type": "stream",
     "text": [
      "Your chances of winning are 0.0000072%. And if a ticket costs $50, the total cost of just trying is $50.\n",
      "\n",
      "\n",
      "Your chances of winning are 0.0000715%. And if a ticket costs $50, the total cost of just trying is $500.\n",
      "\n",
      "\n",
      "Your chances of winning are 0.0007151%. And if a ticket costs $50, the total cost of just trying is $5000.\n",
      "\n",
      "\n",
      "Your chances of winning are 0.0715112%. And if a ticket costs $50, the total cost of just trying is $500000.\n",
      "\n",
      "\n",
      "Your chances of winning are 7.1511238%. And if a ticket costs $50, the total cost of just trying is $50000000.\n",
      "\n",
      "\n",
      "Your chances of winning are 50.0000000%. And if a ticket costs $50, the total cost of just trying is $349595400.\n",
      "\n",
      "\n",
      "Your chances of winning are 100.0000000%. And if a ticket costs $50, the total cost of just trying is $699190800.\n",
      "\n",
      "\n"
     ]
    }
   ],
   "source": [
    "def multi_ticket_probability(n):\n",
    "    total_outcome = int(combinations(49, 6))\n",
    "    \n",
    "    if (n < 0) or (n > total_outcome):\n",
    "        return \"Invalid input. Your input is either less than zero or more than possible combinations. Pls input different number of tickets\"\n",
    "    \n",
    "    percent = (n/total_outcome) * 100\n",
    "    return \"Your chances of winning are {:.7f}%. And if a ticket costs $50, the total cost of just trying is ${}.\".format(percent, str(50*n))\n",
    "    \n",
    "test = [1, 10, 100, 10000, 1000000, 6991908, 13983816]\n",
    "\n",
    "for t in test:\n",
    "    print(multi_ticket_probability(t))\n",
    "    print(\"\\n\")"
   ]
  },
  {
   "cell_type": "markdown",
   "metadata": {},
   "source": [
    "## The Lottery also awards prices if 2 or more numbers have exact match. Therefore, it is also important to calculate the probability of user input getting these matches. The below function calculates probability of having exact matches of any number between 2 or 5."
   ]
  },
  {
   "cell_type": "code",
   "execution_count": 10,
   "metadata": {
    "collapsed": false
   },
   "outputs": [],
   "source": [
    "def probability_less_6(n):\n",
    "    if (n < 2) or (n > 5):\n",
    "        return \"Invalid input. Your input must be an integer between 2 and 5(inclusive)\"\n",
    "    \n",
    "    combinations_n = combinations(6, n)\n",
    "    possible_outcomes_for_each_n = combinations(49 - n, 6 - n) - 1 \n",
    "    ## the - 1 removes the atleast probability\n",
    "    ## Suppose we want to calculate the probability\n",
    "    ## of matching exactly two numbers from the user's list \n",
    "    ## Remember, though user can choose any number from 1 to 49, but they can\n",
    "    ## only enter maximum 6 numbers.\n",
    "    ## Also, any 2 numbers from the 6 user entered can \n",
    "    ## make correct combination, therefore there are total 15\n",
    "    ## possible outcomes i.e., 6C2\n",
    "    ## In addition, these 15 numbers can exist with any of the 47C4 numbers - 1\n",
    "    ## Hence, the total possible outcomes are 15 * (47C4 - 1)\n",
    "    \n",
    "    total_possible_outcomes = combinations_n * possible_outcomes_for_each_n\n",
    "    probability = total_possible_outcomes / combinations(49, 6)\n",
    "    \n",
    "    return \"There is {:.5f}% chance of matching exactly {} numbers.\".format(probability*100, n)\n"
   ]
  },
  {
   "cell_type": "code",
   "execution_count": 11,
   "metadata": {
    "collapsed": false
   },
   "outputs": [
    {
     "data": {
      "text/plain": [
       "'There is 2.17094% chance of matching exactly 3 numbers.'"
      ]
     },
     "execution_count": 11,
     "metadata": {},
     "output_type": "execute_result"
    }
   ],
   "source": [
    "probability_less_6(3)"
   ]
  },
  {
   "cell_type": "code",
   "execution_count": 12,
   "metadata": {
    "collapsed": false
   },
   "outputs": [
    {
     "data": {
      "text/plain": [
       "'There is 19.13255% chance of matching exactly 2 numbers.'"
      ]
     },
     "execution_count": 12,
     "metadata": {},
     "output_type": "execute_result"
    }
   ],
   "source": [
    "probability_less_6(2)"
   ]
  },
  {
   "cell_type": "code",
   "execution_count": 13,
   "metadata": {
    "collapsed": false
   },
   "outputs": [
    {
     "data": {
      "text/plain": [
       "'There is 0.10609% chance of matching exactly 4 numbers.'"
      ]
     },
     "execution_count": 13,
     "metadata": {},
     "output_type": "execute_result"
    }
   ],
   "source": [
    "probability_less_6(4)"
   ]
  },
  {
   "cell_type": "code",
   "execution_count": 14,
   "metadata": {
    "collapsed": false
   },
   "outputs": [
    {
     "data": {
      "text/plain": [
       "'There is 0.00184% chance of matching exactly 5 numbers.'"
      ]
     },
     "execution_count": 14,
     "metadata": {},
     "output_type": "execute_result"
    }
   ],
   "source": [
    "probability_less_6(5)"
   ]
  }
 ],
 "metadata": {
  "kernelspec": {
   "display_name": "Python 3",
   "language": "python",
   "name": "python3"
  },
  "language_info": {
   "codemirror_mode": {
    "name": "ipython",
    "version": 3
   },
   "file_extension": ".py",
   "mimetype": "text/x-python",
   "name": "python",
   "nbconvert_exporter": "python",
   "pygments_lexer": "ipython3",
   "version": "3.4.3"
  }
 },
 "nbformat": 4,
 "nbformat_minor": 2
}
